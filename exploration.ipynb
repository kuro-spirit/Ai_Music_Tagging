{
 "cells": [
  {
   "cell_type": "code",
   "execution_count": 4,
   "id": "952ae169",
   "metadata": {},
   "outputs": [
    {
     "name": "stdout",
     "output_type": "stream",
     "text": [
      "d:\\Programing\\Ai_Music_Tagging\\venv\\Scripts\\python.exe\n",
      "['C:\\\\Users\\\\kz\\\\AppData\\\\Local\\\\Programs\\\\Python\\\\Python311\\\\python311.zip', 'C:\\\\Users\\\\kz\\\\AppData\\\\Local\\\\Programs\\\\Python\\\\Python311\\\\DLLs', 'C:\\\\Users\\\\kz\\\\AppData\\\\Local\\\\Programs\\\\Python\\\\Python311\\\\Lib', 'C:\\\\Users\\\\kz\\\\AppData\\\\Local\\\\Programs\\\\Python\\\\Python311', 'd:\\\\Programing\\\\Ai_Music_Tagging\\\\venv', '', 'd:\\\\Programing\\\\Ai_Music_Tagging\\\\venv\\\\Lib\\\\site-packages', 'd:\\\\Programing\\\\Ai_Music_Tagging\\\\venv\\\\Lib\\\\site-packages\\\\win32', 'd:\\\\Programing\\\\Ai_Music_Tagging\\\\venv\\\\Lib\\\\site-packages\\\\win32\\\\lib', 'd:\\\\Programing\\\\Ai_Music_Tagging\\\\venv\\\\Lib\\\\site-packages\\\\Pythonwin']\n"
     ]
    }
   ],
   "source": [
    "import os\n",
    "from pathlib import Path\n",
    "import librosa\n",
    "import librosa.display\n",
    "import numpy as np\n",
    "import matplotlib.pyplot as plt\n",
    "from tqdm import tqdm\n",
    "import sys\n",
    "print(sys.executable)\n",
    "print(sys.path)"
   ]
  },
  {
   "cell_type": "markdown",
   "id": "a8953bfb",
   "metadata": {},
   "source": [
    "Configurations for Model tuning."
   ]
  },
  {
   "cell_type": "code",
   "execution_count": null,
   "id": "e3222ec2",
   "metadata": {},
   "outputs": [
    {
     "name": "stdout",
     "output_type": "stream",
     "text": [
      "D:\\Programing\\data\\genres_original\n",
      "True\n"
     ]
    }
   ],
   "source": [
    "# Paths\n",
    "# adjust path if notebook is elsewhere\n",
    "DATA_RAW = Path(r\"D:\\Programing\\Ai_Music_Tagging\\data\\genres_original\")\n",
    "DATA_PROCESSED = Path(\"../data/processed\")\n",
    "DATA_PROCESSED.mkdir(parents=True, exist_ok=True)\n",
    "\n",
    "# Audio params\n",
    "SAMPLE_RATE = 22050\n",
    "SEGMENT_DURATION = 5  # seconds\n",
    "N_MELS = 128\n",
    "HOP_LENGTH = 512\n",
    "N_FFT = 2048"
   ]
  },
  {
   "cell_type": "code",
   "execution_count": 24,
   "id": "86fb60e3",
   "metadata": {},
   "outputs": [
    {
     "name": "stdout",
     "output_type": "stream",
     "text": [
      "D:\\Programing\\Ai_Music_Tagging\\data\\genres_original\n",
      "Genres: ['blues', 'classical', 'country', 'disco', 'hiphop', 'jazz', 'metal', 'pop', 'reggae', 'rock']\n",
      "blues: 100\n",
      "classical: 100\n",
      "country: 100\n",
      "disco: 100\n",
      "hiphop: 100\n",
      "jazz: 100\n",
      "metal: 100\n",
      "pop: 100\n",
      "reggae: 100\n",
      "rock: 100\n"
     ]
    }
   ],
   "source": [
    "print(DATA_RAW)\n",
    "genres = sorted([g.name for g in DATA_RAW.iterdir() if g.is_dir()])\n",
    "print(\"Genres:\", genres)\n",
    "\n",
    "# Count files\n",
    "for g in genres:\n",
    "    count = len(list((DATA_RAW / g).glob(\"*.wav\")))\n",
    "    print(f\"{g}: {count}\")"
   ]
  },
  {
   "cell_type": "markdown",
   "id": "c1fce006",
   "metadata": {},
   "source": [
    "Preprocessing "
   ]
  },
  {
   "cell_type": "code",
   "execution_count": null,
   "id": "68fcd30b",
   "metadata": {},
   "outputs": [],
   "source": [
    "def preprocess_file(filepath, genre):\n",
    "    # Load audio\n",
    "    y, sr = librosa.load(filepath, sr=SAMPLE_RATE, mono=True)\n",
    "\n",
    "    samples_per_segment = SEGMENT_DURATION * SAMPLE_RATE\n",
    "    total_segments = len(y) // samples_per_segment\n",
    "\n",
    "    saved_files = []\n",
    "    for i in range(total_segments):\n",
    "        start = i * samples_per_segment\n",
    "        end = start + samples_per_segment\n",
    "        segment = y[start:end]\n",
    "\n",
    "        # Compute Mel spectrogram\n",
    "        mel = librosa.feature.melspectrogram(\n",
    "            y=segment,\n",
    "            sr=SAMPLE_RATE,\n",
    "            n_fft=N_FFT,\n",
    "            hop_length=HOP_LENGTH,\n",
    "            n_mels=N_MELS\n",
    "        )\n",
    "        mel_db = librosa.power_to_db(mel, ref=np.max)\n",
    "\n",
    "        # Normalize to [-1,1]\n",
    "        mel_db = (mel_db - mel_db.mean()) / (mel_db.std() + 1e-9)\n",
    "\n",
    "        # Save\n",
    "        out_dir = DATA_PROCESSED / genre\n",
    "        out_dir.mkdir(parents=True, exist_ok=True)\n",
    "        out_name = f\"{filepath.stem}_seg{i}.npy\"\n",
    "        np.save(out_dir / out_name, mel_db)\n",
    "        saved_files.append(out_dir / out_name)\n",
    "\n",
    "    return saved_files"
   ]
  }
 ],
 "metadata": {
  "kernelspec": {
   "display_name": "venv",
   "language": "python",
   "name": "python3"
  },
  "language_info": {
   "codemirror_mode": {
    "name": "ipython",
    "version": 3
   },
   "file_extension": ".py",
   "mimetype": "text/x-python",
   "name": "python",
   "nbconvert_exporter": "python",
   "pygments_lexer": "ipython3",
   "version": "3.11.9"
  }
 },
 "nbformat": 4,
 "nbformat_minor": 5
}
